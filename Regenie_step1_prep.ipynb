{
 "cells": [
  {
   "cell_type": "code",
   "execution_count": 1,
   "id": "sharp-concern",
   "metadata": {},
   "outputs": [],
   "source": [
    "import pandas as pd\n",
    "import numpy as np"
   ]
  },
  {
   "cell_type": "code",
   "execution_count": 2,
   "id": "aquatic-proof",
   "metadata": {},
   "outputs": [],
   "source": [
    "# Init variables\n",
    "ch = '1'\n",
    "annot=None"
   ]
  },
  {
   "cell_type": "code",
   "execution_count": 5,
   "id": "tight-austria",
   "metadata": {},
   "outputs": [],
   "source": [
    "def read_annot():\n",
    "    '''\n",
    "    A function for reading a chromosome annotation file\n",
    "    and removing extra columns.\n",
    "    -------------\n",
    "    Returns pandas.DataFrame:\n",
    "        The prepared annotation data-frame.\n",
    "    '''\n",
    "    annot=None\n",
    "    size=1000000\n",
    "    \n",
    "    it = pd.read_csv('./annotations/ch'+ch+'.tsv.gz', chunksize=size, sep='\\t', \n",
    "                     header=None, compression='gzip')\n",
    "    for chunk in it:\n",
    "        chunk.drop([1,2,3,4,6,7,9,10,11,12,14,15,16], axis=1, inplace=True)\n",
    "        annot = pd.concat([annot, chunk])\n",
    "        print(len(annot), end=\" \")\n",
    "    \n",
    "    return annot\n"
   ]
  },
  {
   "cell_type": "code",
   "execution_count": null,
   "id": "third-cathedral",
   "metadata": {},
   "outputs": [],
   "source": [
    "# Read annotation\n",
    "annot = read_annot()"
   ]
  },
  {
   "cell_type": "code",
   "execution_count": null,
   "id": "animated-matter",
   "metadata": {},
   "outputs": [],
   "source": [
    "# Prepare mask_def and save\n",
    "\n",
    "masks = pd.DataFrame(annot[17].unique())\n",
    "col = pd.Series(['Mask1', 'Mask2', 'Mask3', 'Mask4', 'Mask5'])\n",
    "masks.insert(loc=0,column='temp',value=col)\n",
    "masks = masks.rename(columns={'temp':''})\n",
    "masks[0]=masks[0].str.replace(' ','_')\n",
    "\n",
    "masks.to_csv(\"./path/mask_def_\"+ch+\".tsv\", sep='\\t', index=False, header=False)\n"
   ]
  },
  {
   "cell_type": "code",
   "execution_count": null,
   "id": "incorporate-klein",
   "metadata": {},
   "outputs": [],
   "source": [
    "# Prepare mask_def with overlap (not needed)\n",
    "\n",
    "dups= masks.copy()\n",
    "dups[0]=dups[0]+',CTCF binding site'\n",
    "dups['']=pd.Series(['Mask6', 'Mask7', 'Mask8', 'Mask9', 'Mask10'])\n",
    "masks=masks.append(dups, ignore_index=True)\n",
    "\n",
    "masks.to_csv(\"./path/mask_def_\"+ch+\"ov.tsv\", sep='\\t', index=False, header=False)"
   ]
  },
  {
   "cell_type": "code",
   "execution_count": 6,
   "id": "cubic-steps",
   "metadata": {},
   "outputs": [],
   "source": [
    "# Prepare anno_file and save\n",
    "\n",
    "annot.drop([5,8], axis=1, inplace=True)\n",
    "annot[13]=annot[13].str.split(':').str[1]\n",
    "annot[0]=annot[0].str.replace('chr','')\n",
    "annot[17]=annot[17].str.replace(' ','_')\n",
    "\n",
    "annot.to_csv(\"./path/anno_file_\"+ch+\".tsv\", sep='\\t', index=False, header=False)\n"
   ]
  },
  {
   "cell_type": "code",
   "execution_count": 4,
   "id": "wooden-aaron",
   "metadata": {},
   "outputs": [
    {
     "name": "stdout",
     "output_type": "stream",
     "text": [
      "1000000 2000000 3000000 4000000 5000000 6000000 7000000 8000000 9000000 10000000 11000000 12000000 13000000 14000000 15000000 16000000 17000000 18000000 18785083 "
     ]
    }
   ],
   "source": [
    "# Prepare set_list and save\n",
    "\n",
    "annot=read_annot()\n",
    "annot.drop([17], axis=1, inplace=True)\n",
    "annot[13]=annot[13].str.split(':').str[1]\n",
    "annot[0]=annot[0].str.replace('chr','')\n",
    "annot = annot.groupby(13).agg({5:'first', 8:'first',0:','.join}).reset_index()\n",
    "\n",
    "annot.to_csv(\"./path/set_list_\"+ch+\".tsv\", sep='\\t', index=False, header=False)\n"
   ]
  },
  {
   "cell_type": "code",
   "execution_count": 76,
   "id": "juvenile-machine",
   "metadata": {},
   "outputs": [],
   "source": []
  }
 ],
 "metadata": {
  "kernelspec": {
   "display_name": "Python 3",
   "language": "python",
   "name": "python3"
  },
  "language_info": {
   "codemirror_mode": {
    "name": "ipython",
    "version": 3
   },
   "file_extension": ".py",
   "mimetype": "text/x-python",
   "name": "python",
   "nbconvert_exporter": "python",
   "pygments_lexer": "ipython3",
   "version": "3.6.13"
  }
 },
 "nbformat": 4,
 "nbformat_minor": 5
}
